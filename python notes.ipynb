{
 "cells": [
  {
   "cell_type": "code",
   "execution_count": 21,
   "id": "ee2dcfe7-bb4b-43ef-9131-a51f649b1816",
   "metadata": {},
   "outputs": [
    {
     "name": "stdout",
     "output_type": "stream",
     "text": [
      "75\n"
     ]
    }
   ],
   "source": [
    "x = 75 #variable cannot start with no\n",
    "print(x)\n"
   ]
  },
  {
   "cell_type": "code",
   "execution_count": 11,
   "id": "cb47db8d-bb57-42df-999e-cff6f0efaaf3",
   "metadata": {},
   "outputs": [
    {
     "name": "stdout",
     "output_type": "stream",
     "text": [
      "My name is sam  and age is 12\n"
     ]
    }
   ],
   "source": [
    "n = \"sam\"\n",
    "a = 12\n",
    "print(\"My name is\",n,\" and age is\",a)"
   ]
  },
  {
   "cell_type": "code",
   "execution_count": 19,
   "id": "759aaf89-c8fd-4930-9e83-39b204a282e6",
   "metadata": {},
   "outputs": [
    {
     "name": "stdout",
     "output_type": "stream",
     "text": [
      "my name is sam and age 12\n"
     ]
    }
   ],
   "source": [
    "print(\"my name is {one} and age {two}\".format(one = n,two = a))"
   ]
  },
  {
   "cell_type": "code",
   "execution_count": 23,
   "id": "d35b7aff-fb92-4357-b4d4-652074812f53",
   "metadata": {},
   "outputs": [
    {
     "name": "stdout",
     "output_type": "stream",
     "text": [
      "welcome 5.0 bye\n"
     ]
    }
   ],
   "source": [
    "a,b,c = \"welcome\",5.0,\"bye\"\n",
    "print(a,b,c)"
   ]
  },
  {
   "cell_type": "code",
   "execution_count": 25,
   "id": "af2faac1-4462-43a5-9dff-6a520457316b",
   "metadata": {},
   "outputs": [
    {
     "name": "stdout",
     "output_type": "stream",
     "text": [
      "welcome bye\n"
     ]
    }
   ],
   "source": [
    "print(a,c)"
   ]
  },
  {
   "cell_type": "code",
   "execution_count": 27,
   "id": "598b25f7-d165-4876-9ce4-e20d096e839c",
   "metadata": {},
   "outputs": [],
   "source": [
    "del b"
   ]
  },
  {
   "cell_type": "code",
   "execution_count": 29,
   "id": "b488a089-ecfd-4d95-a2a8-300ca3f50bc1",
   "metadata": {},
   "outputs": [
    {
     "ename": "NameError",
     "evalue": "name 'b' is not defined",
     "output_type": "error",
     "traceback": [
      "\u001b[1;31m---------------------------------------------------------------------------\u001b[0m",
      "\u001b[1;31mNameError\u001b[0m                                 Traceback (most recent call last)",
      "Cell \u001b[1;32mIn[29], line 1\u001b[0m\n\u001b[1;32m----> 1\u001b[0m \u001b[38;5;28mprint\u001b[39m(b)\n",
      "\u001b[1;31mNameError\u001b[0m: name 'b' is not defined"
     ]
    }
   ],
   "source": [
    "print(b) #b is deleted"
   ]
  },
  {
   "cell_type": "code",
   "execution_count": 43,
   "id": "825fae96-099e-4a0a-bcdd-98fc1d93c2d6",
   "metadata": {},
   "outputs": [
    {
     "data": {
      "text/plain": [
       "'Welcome'"
      ]
     },
     "execution_count": 43,
     "metadata": {},
     "output_type": "execute_result"
    }
   ],
   "source": [
    "x = \"welcome\"\n",
    "x.capitalize() #makes first letter of sentence capital"
   ]
  },
  {
   "cell_type": "code",
   "execution_count": 12,
   "id": "d475339c-29f5-40d4-bb4c-70d462cd5e2b",
   "metadata": {},
   "outputs": [
    {
     "data": {
      "text/plain": [
       "1"
      ]
     },
     "execution_count": 12,
     "metadata": {},
     "output_type": "execute_result"
    }
   ],
   "source": [
    "x=\"welcome\"\n",
    "x.count(\"m\")"
   ]
  },
  {
   "cell_type": "code",
   "execution_count": 4,
   "id": "2cd0c4d9-9d86-4d30-89cd-8af5681397a9",
   "metadata": {},
   "outputs": [
    {
     "ename": "NameError",
     "evalue": "name 'a' is not defined",
     "output_type": "error",
     "traceback": [
      "\u001b[1;31m---------------------------------------------------------------------------\u001b[0m",
      "\u001b[1;31mNameError\u001b[0m                                 Traceback (most recent call last)",
      "Cell \u001b[1;32mIn[4], line 1\u001b[0m\n\u001b[1;32m----> 1\u001b[0m a\u001b[38;5;241m.\u001b[39mindex(\u001b[38;5;124m\"\u001b[39m\u001b[38;5;124mc\u001b[39m\u001b[38;5;124m\"\u001b[39m)\n",
      "\u001b[1;31mNameError\u001b[0m: name 'a' is not defined"
     ]
    }
   ],
   "source": [
    "a.index(\"c\") #index position"
   ]
  },
  {
   "cell_type": "code",
   "execution_count": 56,
   "id": "dc19e4c1-2def-437d-a218-d060d67ef8ab",
   "metadata": {},
   "outputs": [
    {
     "data": {
      "text/plain": [
       "'WELCOME'"
      ]
     },
     "execution_count": 56,
     "metadata": {},
     "output_type": "execute_result"
    }
   ],
   "source": [
    "a.upper() #makes string in uppercase"
   ]
  },
  {
   "cell_type": "code",
   "execution_count": 58,
   "id": "e584eca7-2327-49b0-878c-f96541c9d0c1",
   "metadata": {},
   "outputs": [
    {
     "data": {
      "text/plain": [
       "'welcome'"
      ]
     },
     "execution_count": 58,
     "metadata": {},
     "output_type": "execute_result"
    }
   ],
   "source": [
    "a.lower() #makes string in lowercase"
   ]
  },
  {
   "cell_type": "code",
   "execution_count": 65,
   "id": "50a06e10-298c-4e12-9449-f66a21c0ecb3",
   "metadata": {},
   "outputs": [],
   "source": [
    "y = \"my name is john\"\n"
   ]
  },
  {
   "cell_type": "code",
   "execution_count": 69,
   "id": "90172152-218b-409d-9222-801474efa2cd",
   "metadata": {},
   "outputs": [
    {
     "data": {
      "text/plain": [
       "'my name is john'"
      ]
     },
     "execution_count": 69,
     "metadata": {},
     "output_type": "execute_result"
    }
   ],
   "source": [
    "y.strip() #removes the gap before and after the sentence"
   ]
  },
  {
   "cell_type": "code",
   "execution_count": 75,
   "id": "1e45610a-efa1-47e3-b43a-64ffc45483ed",
   "metadata": {},
   "outputs": [
    {
     "data": {
      "text/plain": [
       "' by nabe is john '"
      ]
     },
     "execution_count": 75,
     "metadata": {},
     "output_type": "execute_result"
    }
   ],
   "source": [
    "y.replace(\"m\",\"b\") #replace letters in sentences "
   ]
  },
  {
   "cell_type": "code",
   "execution_count": 77,
   "id": "0a2ff7ad-1bb2-45af-a9b2-e4ffba502178",
   "metadata": {},
   "outputs": [
    {
     "data": {
      "text/plain": [
       "' My Name Is John '"
      ]
     },
     "execution_count": 77,
     "metadata": {},
     "output_type": "execute_result"
    }
   ],
   "source": [
    "y.title() #makes first letter of every word capital"
   ]
  },
  {
   "cell_type": "code",
   "execution_count": 79,
   "id": "ca1f8698-3782-44b8-b51a-fcf91a00888d",
   "metadata": {},
   "outputs": [
    {
     "data": {
      "text/plain": [
       "' my name is john '"
      ]
     },
     "execution_count": 79,
     "metadata": {},
     "output_type": "execute_result"
    }
   ],
   "source": [
    "y"
   ]
  },
  {
   "cell_type": "code",
   "execution_count": 81,
   "id": "417ec458-5a66-47d3-81d5-f3f4e5ced3ff",
   "metadata": {},
   "outputs": [
    {
     "data": {
      "text/plain": [
       "' my name is john '"
      ]
     },
     "execution_count": 81,
     "metadata": {},
     "output_type": "execute_result"
    }
   ],
   "source": [
    "y"
   ]
  },
  {
   "cell_type": "code",
   "execution_count": 83,
   "id": "c4ecd9df-c1fe-4029-bf8a-be564451fb79",
   "metadata": {},
   "outputs": [
    {
     "data": {
      "text/plain": [
       "'n'"
      ]
     },
     "execution_count": 83,
     "metadata": {},
     "output_type": "execute_result"
    }
   ],
   "source": [
    "y[4] "
   ]
  },
  {
   "cell_type": "code",
   "execution_count": 89,
   "id": "8c21d477-21b8-4f47-bb11-afa3b1712ffd",
   "metadata": {},
   "outputs": [
    {
     "data": {
      "text/plain": [
       "7"
      ]
     },
     "execution_count": 89,
     "metadata": {},
     "output_type": "execute_result"
    }
   ],
   "source": [
    "y.index(\"e\") #prints a single letter from sentence"
   ]
  },
  {
   "cell_type": "code",
   "execution_count": 93,
   "id": "93b8e3ae-439a-4772-8a10-b16432877d50",
   "metadata": {},
   "outputs": [
    {
     "data": {
      "text/plain": [
       "'name'"
      ]
     },
     "execution_count": 93,
     "metadata": {},
     "output_type": "execute_result"
    }
   ],
   "source": [
    "y[4:8] #prints a part of a sentence"
   ]
  },
  {
   "cell_type": "code",
   "execution_count": 95,
   "id": "80ffae61-18d5-4f77-94a0-3cf53cdbe90f",
   "metadata": {},
   "outputs": [
    {
     "data": {
      "text/plain": [
       "'name is john '"
      ]
     },
     "execution_count": 95,
     "metadata": {},
     "output_type": "execute_result"
    }
   ],
   "source": [
    "y[4:]"
   ]
  },
  {
   "cell_type": "code",
   "execution_count": 102,
   "id": "da6c9163-a112-4829-9128-a028100e7340",
   "metadata": {},
   "outputs": [
    {
     "data": {
      "text/plain": [
       "'john'"
      ]
     },
     "execution_count": 102,
     "metadata": {},
     "output_type": "execute_result"
    }
   ],
   "source": [
    "y[12:15+1]"
   ]
  },
  {
   "cell_type": "code",
   "execution_count": 114,
   "id": "798135f1-25d3-495d-a960-4f4914729831",
   "metadata": {},
   "outputs": [
    {
     "data": {
      "text/plain": [
       "12"
      ]
     },
     "execution_count": 114,
     "metadata": {},
     "output_type": "execute_result"
    }
   ],
   "source": [
    "y.index(\"j\")"
   ]
  },
  {
   "cell_type": "code",
   "execution_count": 120,
   "id": "3d93fdf9-817e-463a-999f-e2b1f140f417",
   "metadata": {},
   "outputs": [
    {
     "data": {
      "text/plain": [
       "' my name'"
      ]
     },
     "execution_count": 120,
     "metadata": {},
     "output_type": "execute_result"
    }
   ],
   "source": [
    "y[:8]"
   ]
  },
  {
   "cell_type": "code",
   "execution_count": null,
   "id": "ee68b0f3-932a-487d-9252-158fb21cf582",
   "metadata": {},
   "outputs": [],
   "source": [
    "#positive indexing -- left to right -- 0,1,2,3..\n",
    "#negative indexing -- right to left -- -1,-2,-3.."
   ]
  },
  {
   "cell_type": "code",
   "execution_count": 126,
   "id": "b4f3f502-82b7-4857-a6ab-35704e153393",
   "metadata": {},
   "outputs": [
    {
     "data": {
      "text/plain": [
       "'john'"
      ]
     },
     "execution_count": 126,
     "metadata": {},
     "output_type": "execute_result"
    }
   ],
   "source": [
    "y[12:15+1]"
   ]
  },
  {
   "cell_type": "code",
   "execution_count": 136,
   "id": "fc0262a8-0fc6-4040-a3d3-3a9535b740d4",
   "metadata": {},
   "outputs": [
    {
     "data": {
      "text/plain": [
       "'john'"
      ]
     },
     "execution_count": 136,
     "metadata": {},
     "output_type": "execute_result"
    }
   ],
   "source": [
    "y[-5:-1]"
   ]
  },
  {
   "cell_type": "code",
   "execution_count": 140,
   "id": "d79ddde5-c39f-4ee0-8c94-565fbc58697e",
   "metadata": {},
   "outputs": [
    {
     "data": {
      "text/plain": [
       "6"
      ]
     },
     "execution_count": 140,
     "metadata": {},
     "output_type": "execute_result"
    }
   ],
   "source": [
    "y.index(\"me\")"
   ]
  },
  {
   "cell_type": "code",
   "execution_count": 154,
   "id": "3f5dfa87-4ce8-4b59-9279-014984d021b9",
   "metadata": {},
   "outputs": [
    {
     "data": {
      "text/plain": [
       "'my name is '"
      ]
     },
     "execution_count": 154,
     "metadata": {},
     "output_type": "execute_result"
    }
   ],
   "source": [
    "y[-16:-5]"
   ]
  },
  {
   "cell_type": "code",
   "execution_count": 164,
   "id": "3fabed87-0606-4cf3-ba2c-2b4bb71ab9d4",
   "metadata": {},
   "outputs": [
    {
     "data": {
      "text/plain": [
       "' my name'"
      ]
     },
     "execution_count": 164,
     "metadata": {},
     "output_type": "execute_result"
    }
   ],
   "source": [
    "y[:8]"
   ]
  },
  {
   "cell_type": "code",
   "execution_count": 166,
   "id": "78d76c6e-1c14-49f4-9a98-60870d23daea",
   "metadata": {},
   "outputs": [],
   "source": [
    "z = \"ALL THE STUDENTS GOOD AFTERNOON\""
   ]
  },
  {
   "cell_type": "code",
   "execution_count": 184,
   "id": "690ff7b8-0d61-4f92-af9e-fce35a696778",
   "metadata": {},
   "outputs": [
    {
     "data": {
      "text/plain": [
       "'GOOD'"
      ]
     },
     "execution_count": 184,
     "metadata": {},
     "output_type": "execute_result"
    }
   ],
   "source": [
    "z[-14:-10]"
   ]
  },
  {
   "cell_type": "code",
   "execution_count": 186,
   "id": "0b4e87cf-471d-4003-a262-20d019282d89",
   "metadata": {},
   "outputs": [
    {
     "data": {
      "text/plain": [
       "'ALL THE STUDENTS BAD AFTERNOON'"
      ]
     },
     "execution_count": 186,
     "metadata": {},
     "output_type": "execute_result"
    }
   ],
   "source": [
    "z.replace(\"GOOD\",\"BAD\")"
   ]
  },
  {
   "cell_type": "code",
   "execution_count": null,
   "id": "f785c9d4-de9c-4736-8804-2305c429082f",
   "metadata": {},
   "outputs": [],
   "source": []
  },
  {
   "cell_type": "code",
   "execution_count": null,
   "id": "fe3ba2c9-1158-4969-b324-5b72bddb370c",
   "metadata": {},
   "outputs": [],
   "source": []
  }
 ],
 "metadata": {
  "kernelspec": {
   "display_name": "Python 3 (ipykernel)",
   "language": "python",
   "name": "python3"
  },
  "language_info": {
   "codemirror_mode": {
    "name": "ipython",
    "version": 3
   },
   "file_extension": ".py",
   "mimetype": "text/x-python",
   "name": "python",
   "nbconvert_exporter": "python",
   "pygments_lexer": "ipython3",
   "version": "3.12.4"
  }
 },
 "nbformat": 4,
 "nbformat_minor": 5
}
